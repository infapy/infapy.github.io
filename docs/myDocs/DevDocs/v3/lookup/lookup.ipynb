{
 "cells": [
  {
   "cell_type": "markdown",
   "id": "8fa67c2f",
   "metadata": {},
   "source": [
    "# Lookup"
   ]
  },
  {
   "cell_type": "markdown",
   "id": "d2d63bde",
   "metadata": {},
   "source": [
    "Use the lookup resource to look up an object's ID, name, path, or type attributes.\n",
    "lookup api is used to fetch the object ID.\n",
    "\n",
    ">        Args:\n",
    ">            id ([str], required if path and object not provided): [description]. object id.\n",
    ">            path ([str], required if id not provided): [description]. ProjectFolder/SubFolder/mt_test\n",
    ">            objectType ([str], required if id not provided): [description]. Type of object, ex: MTT\n",
    ">\n",
    ">        Raises:\n",
    ">            InvalidArgumentsError: if required arguments are not passed\n",
    ">\n",
    ">        Returns:\n",
    ">            json: lookup of objects in iics v3.lookup()\n",
    "\n",
    "For More Information on support values for object types, read the product documentation: https://docs.informatica.com/integration-cloud/cloud-platform/current-version/rest-api-reference/platform-rest-api-version-3-resources/lookup.html"
   ]
  },
  {
   "cell_type": "markdown",
   "id": "92d59e77",
   "metadata": {},
   "source": [
    "## Example: Lookup Connection Details"
   ]
  },
  {
   "cell_type": "code",
   "execution_count": 13,
   "id": "40d8afec",
   "metadata": {},
   "outputs": [
    {
     "name": "stdout",
     "output_type": "stream",
     "text": [
      "{'objects': [{'id': '848Au1yuOzAcdxJMgPkdqy', 'path': '__ff', 'type': 'Connection', 'description': None, 'updatedBy': 'prashanth-p', 'updateTime': '2021-08-12T14:40:54Z'}]}\n"
     ]
    }
   ],
   "source": [
    "import infapy\n",
    "\n",
    "# create infa handler\n",
    "infaHandler = infapy.connect()\n",
    "v3 = infaHandler.v3()\n",
    "\n",
    "# Perform Lookup\n",
    "# path = connectionName\n",
    "lookup = v3.lookup(path=\"__ff\",objectType=\"connection\")\n",
    "print(lookup)"
   ]
  },
  {
   "cell_type": "markdown",
   "id": "311a204e",
   "metadata": {},
   "source": [
    "## Example: Lookup Runtime Environment"
   ]
  },
  {
   "cell_type": "code",
   "execution_count": 12,
   "id": "3d33e795",
   "metadata": {},
   "outputs": [
    {
     "name": "stdout",
     "output_type": "stream",
     "text": [
      "{'objects': [{'id': '6tSb1EPg2b4jbkpUuV2p6z', 'path': 'prashanth-sbx', 'type': 'AGENT', 'description': None, 'updatedBy': 'prashanth-p', 'updateTime': '2021-03-22T11:13:35Z'}]}\n"
     ]
    }
   ],
   "source": [
    "import infapy\n",
    "\n",
    "# create infa handler\n",
    "infaHandler = infapy.connect()\n",
    "v3 = infaHandler.v3()\n",
    "\n",
    "# Perform Lookup\n",
    "# path = agentName\n",
    "lookup = v3.lookup(path=\"prashanth-sbx\",objectType=\"agent\")\n",
    "print(lookup)"
   ]
  },
  {
   "cell_type": "markdown",
   "id": "748a31d2",
   "metadata": {},
   "source": [
    "## Example: Lookup Mapping task id"
   ]
  },
  {
   "cell_type": "code",
   "execution_count": 14,
   "id": "aab6b46e",
   "metadata": {},
   "outputs": [
    {
     "name": "stdout",
     "output_type": "stream",
     "text": [
      "{'objects': [{'id': 'kuBb7spW60ghLWgeRX6isa', 'path': 'Prashanth/TEST/mt_scheduled_job_test', 'type': 'MTT', 'description': '', 'updatedBy': 'prashanth-p', 'updateTime': '2021-03-30T12:31:04Z'}]}\n"
     ]
    }
   ],
   "source": [
    "import infapy\n",
    "\n",
    "# create infa handler\n",
    "infaHandler = infapy.connect()\n",
    "v3 = infaHandler.v3()\n",
    "\n",
    "# Perform Lookup\n",
    "# path = <projectFolder>/<subFolder>/<taskName>\n",
    "lookup = v3.lookup(path=\"Prashanth/TEST/mt_scheduled_job_test\",objectType=\"MTT\")\n",
    "print(lookup)"
   ]
  }
 ],
 "metadata": {
  "kernelspec": {
   "display_name": "Python 3 (ipykernel)",
   "language": "python",
   "name": "python3"
  },
  "language_info": {
   "codemirror_mode": {
    "name": "ipython",
    "version": 3
   },
   "file_extension": ".py",
   "mimetype": "text/x-python",
   "name": "python",
   "nbconvert_exporter": "python",
   "pygments_lexer": "ipython3",
   "version": "3.9.6"
  }
 },
 "nbformat": 4,
 "nbformat_minor": 5
}
